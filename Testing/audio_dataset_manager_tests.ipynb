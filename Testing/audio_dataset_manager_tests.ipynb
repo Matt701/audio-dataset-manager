{
 "cells": [
  {
   "cell_type": "markdown",
   "metadata": {},
   "source": [
    "### Working page leafthrough"
   ]
  },
  {
   "cell_type": "code",
   "execution_count": null,
   "metadata": {},
   "outputs": [],
   "source": []
  },
  {
   "cell_type": "code",
   "execution_count": null,
   "metadata": {},
   "outputs": [],
   "source": [
    "import gradio as gr\n",
    "\n",
    "def paginate(page, max_page, page_change):\n",
    "    new_page = page + page_change\n",
    "    new_page = max(1, new_page)  # Ensures page is not less than 1\n",
    "    new_page = min(new_page, max_page)  # Ensures page does not exceed max_page\n",
    "    return new_page\n",
    "\n",
    "def paginate_go(page, max_page):\n",
    "    try:\n",
    "        page = int(page)\n",
    "    except ValueError:\n",
    "        print(f'Invalid page number: {page}')\n",
    "        return None\n",
    "    return paginate(page, max_page, 0)\n",
    "def create_gradio_app():\n",
    "    with gr.Blocks() as app:\n",
    "        with gr.Row():\n",
    "            page_input = gr.Number(label=\"Page Number\", value=1)\n",
    "            max_page = gr.Number(label=\"Max Page\", value=10)  # Assuming max 10 pages for testing\n",
    "            go_button = gr.Button(\"Go to Page\")\n",
    "            next_button = gr.Button(\"Next\")\n",
    "            prev_button = gr.Button(\"Previous\")\n",
    "            current_page_label = gr.Label(\"Current Page: 1\")\n",
    "\n",
    "        def update_page_label(page):\n",
    "            current_page_label.update(f\"Current Page: {page}\")\n",
    "\n",
    "        go_button.click(fn=paginate_go, inputs=[page_input, max_page], outputs=page_input)\n",
    "        next_button.click(fn=lambda x, y: paginate(x, y, 1), inputs=[page_input, max_page], outputs=page_input)\n",
    "        prev_button.click(fn=lambda x, y: paginate(x, y, -1), inputs=[page_input, max_page], outputs=page_input)\n",
    "        page_input.change(update_page_label)\n",
    "\n",
    "    return app\n",
    "\n",
    "app = create_gradio_app()\n",
    "app.launch()"
   ]
  },
  {
   "cell_type": "code",
   "execution_count": null,
   "metadata": {},
   "outputs": [],
   "source": []
  },
  {
   "cell_type": "code",
   "execution_count": 45,
   "metadata": {},
   "outputs": [
    {
     "name": "stdout",
     "output_type": "stream",
     "text": [
      "Running on local URL:  http://127.0.0.1:7884\n",
      "\n",
      "To create a public link, set `share=True` in `launch()`.\n"
     ]
    },
    {
     "data": {
      "text/html": [
       "<div><iframe src=\"http://127.0.0.1:7884/\" width=\"100%\" height=\"500\" allow=\"autoplay; camera; microphone; clipboard-read; clipboard-write;\" frameborder=\"0\" allowfullscreen></iframe></div>"
      ],
      "text/plain": [
       "<IPython.core.display.HTML object>"
      ]
     },
     "metadata": {},
     "output_type": "display_data"
    },
    {
     "data": {
      "text/plain": []
     },
     "execution_count": 45,
     "metadata": {},
     "output_type": "execute_result"
    }
   ],
   "source": [
    "import gradio as gr\n",
    "import math\n",
    "\n",
    "IMAGES_TO_SHOW = 2  # Number of images to show per page\n",
    "loaded_images = []  # Global variable to store the loaded images\n",
    "\n",
    "def paginate(page, max_page, page_change):\n",
    "    new_page = page + page_change\n",
    "    new_page = max(1, new_page)\n",
    "    new_page = min(new_page, max_page)\n",
    "    return new_page\n",
    "\n",
    "def get_images_for_page(all_images, page):\n",
    "    start_index = (page - 1) * IMAGES_TO_SHOW\n",
    "    end_index = start_index + IMAGES_TO_SHOW\n",
    "    return all_images[start_index:end_index]\n",
    "\n",
    "def update_gallery(page, max_page):\n",
    "    global loaded_images\n",
    "    displayed_images = get_images_for_page(loaded_images, page)\n",
    "    return displayed_images, page, f\"Current Page: {page}\"\n",
    "\n",
    "def handle_pagination(page, max_page, delta):\n",
    "    new_page = paginate(page, max_page, delta)\n",
    "    return update_gallery(new_page, max_page)\n",
    "\n",
    "def handle_image_load(images):\n",
    "    global loaded_images\n",
    "    loaded_images = images\n",
    "    max_page = math.ceil(len(loaded_images) / IMAGES_TO_SHOW)\n",
    "    return update_gallery(1, max_page)  # Display first page of images\n",
    "\n",
    "def create_gradio_app():\n",
    "    with gr.Blocks() as app:\n",
    "        with gr.Row():\n",
    "            image_loader = gr.File(label=\"Load Images\", file_count='multiple')\n",
    "            image_gallery = gr.Gallery(label=\"Image Gallery\")\n",
    "\n",
    "        with gr.Row():\n",
    "            page_input = gr.Number(label=\"Page Number\", value=1, visible=True)\n",
    "            current_page_label = gr.Label(\"Current Page: 1\")\n",
    "            go_button = gr.Button(\"Go to Page\")\n",
    "            prev_button = gr.Button(\"Previous\")\n",
    "            next_button = gr.Button(\"Next\")\n",
    "\n",
    "        image_loader.change(fn=handle_image_load, inputs=[image_loader], outputs=[image_gallery, page_input, current_page_label])\n",
    "        next_button.click(fn=lambda page: handle_pagination(page, math.ceil(len(loaded_images) / IMAGES_TO_SHOW), 1), inputs=[page_input], outputs=[image_gallery, page_input, current_page_label])\n",
    "        prev_button.click(fn=lambda page: handle_pagination(page, math.ceil(len(loaded_images) / IMAGES_TO_SHOW), -1), inputs=[page_input], outputs=[image_gallery, page_input, current_page_label])\n",
    "        go_button.click(fn=lambda page: update_gallery(page, math.ceil(len(loaded_images) / IMAGES_TO_SHOW)), inputs=[page_input], outputs=[image_gallery, page_input, current_page_label])\n",
    "\n",
    "    return app\n",
    "\n",
    "app = create_gradio_app()\n",
    "app.launch()\n"
   ]
  }
 ],
 "metadata": {
  "kernelspec": {
   "display_name": "Python 3 (ipykernel)",
   "language": "python",
   "name": "python3"
  },
  "language_info": {
   "codemirror_mode": {
    "name": "ipython",
    "version": 3
   },
   "file_extension": ".py",
   "mimetype": "text/x-python",
   "name": "python",
   "nbconvert_exporter": "python",
   "pygments_lexer": "ipython3",
   "version": "3.9.0"
  }
 },
 "nbformat": 4,
 "nbformat_minor": 2
}
